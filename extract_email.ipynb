{
 "cells": [
  {
   "cell_type": "code",
   "execution_count": 383,
   "metadata": {},
   "outputs": [],
   "source": [
    "import imaplib\n",
    "import email\n",
    "from datetime import datetime, timedelta\n",
    "import pytz\n",
    "\n",
    "import yaml  #To load saved login credentials from a yaml file"
   ]
  },
  {
   "cell_type": "code",
   "execution_count": 384,
   "metadata": {},
   "outputs": [],
   "source": [
    "with open(\"credentials.yml\") as f:\n",
    "    content = f.read()"
   ]
  },
  {
   "cell_type": "code",
   "execution_count": 385,
   "metadata": {},
   "outputs": [],
   "source": [
    "# from credentials.yml import user name and password\n",
    "my_credentials = yaml.load(content, Loader=yaml.FullLoader)"
   ]
  },
  {
   "cell_type": "code",
   "execution_count": 386,
   "metadata": {},
   "outputs": [],
   "source": [
    "\n",
    "#Load the user name and passwd from yaml file\n",
    "user, password = my_credentials[\"email_user\"], my_credentials[\"email_password\"]"
   ]
  },
  {
   "cell_type": "code",
   "execution_count": 387,
   "metadata": {},
   "outputs": [],
   "source": [
    "#URL for IMAP connection\n",
    "imap_url = 'imap.gmail.com'\n",
    "# Connection with GMAIL using SSL\n",
    "my_mail = imaplib.IMAP4_SSL(imap_url)\n"
   ]
  },
  {
   "cell_type": "code",
   "execution_count": 388,
   "metadata": {},
   "outputs": [
    {
     "name": "stdout",
     "output_type": "stream",
     "text": [
      "LOGIN SUCCESSFUL!!! \n"
     ]
    }
   ],
   "source": [
    "try:\n",
    "    my_mail.login(user, password)\n",
    "    print (\"LOGIN SUCCESSFUL!!! \")\n",
    "    # Select the Inbox to fetch messages\n",
    "    my_mail.select('Inbox')\n",
    "except imaplib.IMAP4.error:\n",
    "    print (\"LOGIN FAILED!!! \")"
   ]
  },
  {
   "cell_type": "code",
   "execution_count": 389,
   "metadata": {},
   "outputs": [],
   "source": [
    "\n",
    "#Define Key and Value for email search\n",
    "#For other keys (criteria): https://gist.github.com/martinrusev/6121028#file-imap-search\n",
    "key = 'FROM'\n",
    "value = 'jrajpal2@illinois.edu'\n",
    "_, data = my_mail.search(None, key, value)  #Search for emails with specific key and value\n",
    "\n",
    "mail_id_list = data[0].split()  #IDs of all emails that we want to fetch \n",
    "\n",
    "\n",
    "\n"
   ]
  },
  {
   "cell_type": "code",
   "execution_count": 390,
   "metadata": {},
   "outputs": [],
   "source": [
    "msgs = [] # empty list to capture all messages\n",
    "#Iterate through messages and extract data into the msgs list\n",
    "for num in mail_id_list:\n",
    "    typ, data = my_mail.fetch(num, '(RFC822)') #RFC822 returns whole message (BODY fetches just body)\n",
    "    msgs.append(data)"
   ]
  },
  {
   "cell_type": "code",
   "execution_count": 391,
   "metadata": {},
   "outputs": [
    {
     "name": "stdout",
     "output_type": "stream",
     "text": [
      "\n",
      "________________________________\n",
      "From: Course Explorer Notifications <techservices-no-reply@illinois.edu>\n",
      "Sent: Wednesday, December 28, 2022 10:25:03 PM (UTC-06:00) Central Time (US=\n",
      " & Canada)\n",
      "To: Rajpal, Jai Vishal <jrajpal2@illinois.edu>\n",
      "Subject: Section Enrollment Status Update from Course Explorer\n",
      "\n",
      "\n",
      "This is an automated message from the Course Explorer system notifying you =\n",
      "that a seat has become available for the following section:\n",
      "\n",
      "Term: Spring 2023\n",
      "Course: KIN 104\n",
      "CRN: 35023\n",
      "Section: A6\n",
      "\n",
      "This notification does not guarantee you the seat nor indicate that you are=\n",
      " eligible to enroll in that section.\n",
      "\n",
      "View KIN 104<http://links.illinois.edu/f/a/aopbgPEHBQkm0wXAnhr4aw~~/AAMFlAA=\n",
      "~/RgRlj5ufP0Q5aHR0cHM6Ly9jb3Vyc2VzLmlsbGlub2lzLmVkdS9zY2hlZHVsZS8yMDIzL3Nwc=\n",
      "mluZy9LSU4vMTA0VwNzcGNCCmOinxatYw0pLp5SFWpyYWpwYWwyQGlsbGlub2lzLmVkdVgEAAAA=\n",
      "DQ~~> in the Course Explorer.\n",
      "\n",
      "Visit Student Self-Service<http://links.illinois.edu/f/a/7GOw8t6IUR3BJlz6GL=\n",
      "Aiqg~~/AAMFlAA~/RgRlj5ufP0SIaHR0cHM6Ly93ZWJwcm9kLmFkbWluLnVpbGxpbm9pcy5lZHU=\n",
      "vcmVkaXJlY3Rlci9yZWRpcmVjdD9yZWRpcmVjdD1odHRwczovL2Jhbm5lci5hcHBzLnVpbGxpbm=\n",
      "9pcy5lZHUvU3R1ZGVudFJlZ2lzdHJhdGlvblNTQi8_bWVwQ29kZT0xVUlVQ1cDc3BjQgpjop8Wr=\n",
      "WMNKS6eUhVqcmFqcGFsMkBpbGxpbm9pcy5lZHVYBAAAAA0~> to register for classes on=\n",
      "ce your Time Ticket is active.\n",
      "\n",
      "Modify your notifications in the Course Explorer<http://links.illinois.edu/=\n",
      "f/a/-mJtU-Ip1NQ9tfJr8VYyiw~~/AAMFlAA~/RgRlj5ufP0Q_aHR0cHM6Ly9jb3Vyc2VzLmlsb=\n",
      "Glub2lzLmVkdS91c2VyL3N0dWRlbnQvZmF2b3JpdGVzLzIwMjMvc3ByaW5nVwNzcGNCCmOinxat=\n",
      "Yw0pLp5SFWpyYWpwYWwyQGlsbGlub2lzLmVkdVgEAAAADQ~~>.\n",
      "\n",
      "\n",
      "\n",
      "Thu, 29 Dec 2022 04:25:07 +0000\n",
      "('KIN', '104', datetime.datetime(2022, 12, 29, 4, 25, 7, tzinfo=datetime.timezone.utc))\n"
     ]
    }
   ],
   "source": [
    "#Now we have all messages, but with a lot of details\n",
    "#Let us extract the right text and print on the screen\n",
    "\n",
    "#In a multipart e-mail, email.message.Message.get_payload() returns a \n",
    "# list with one item for each part. The easiest way is to walk the message \n",
    "# and get the payload on each part:\n",
    "# https://stackoverflow.com/questions/1463074/how-can-i-get-an-email-messages-text-content-using-python\n",
    "\n",
    "# NOTE that a Message object consists of headers and payloads.\n",
    "\n",
    "#create empty list storing course subject, number, and time of most recent notification\n",
    "most_recent_notification = []\n",
    "for response_part in msgs[-1]:\n",
    "    if type(response_part) is tuple:\n",
    "        my_msg=email.message_from_bytes((response_part[1]))\n",
    "        for part in my_msg.walk():\n",
    "            if part.get_content_type() == 'text/plain':\n",
    "                body = part.get_payload(decode=False)\n",
    "                print(body)\n",
    "                #get day and time of email\n",
    "                time = my_msg['Date']\n",
    "                #find the word \"Course\" in the body\n",
    "                course_index = body.find(\"Course:\") + 8\n",
    "                #get the course subject from course index to space\n",
    "                course_subject = body[course_index:].split()[0]\n",
    "                #get the course number from course index to space\n",
    "                course_number = body[course_index:].split()[1]\n",
    "                #convert time to datetime object\n",
    "                print(time)\n",
    "                time = datetime.strptime(time, '%a, %d %b %Y %H:%M:%S %z')\n",
    "                most_recent_notification = (course_subject, course_number, time)\n",
    "print(most_recent_notification)\n"
   ]
  },
  {
   "cell_type": "code",
   "execution_count": 392,
   "metadata": {},
   "outputs": [],
   "source": [
    "#check if the most recent notification is within the last 10 minutes\n",
    "def check_event(most_recent_notification):\n",
    "    utc=pytz.UTC\n",
    "    most_recent_time = most_recent_notification[2]\n",
    "    time_now = utc.localize(datetime.utcnow())\n",
    "    return most_recent_time > time_now - timedelta(minutes=10)\n"
   ]
  },
  {
   "cell_type": "code",
   "execution_count": 393,
   "metadata": {},
   "outputs": [
    {
     "data": {
      "text/plain": [
       "False"
      ]
     },
     "execution_count": 393,
     "metadata": {},
     "output_type": "execute_result"
    }
   ],
   "source": [
    "check_event(most_recent_notification)"
   ]
  },
  {
   "cell_type": "code",
   "execution_count": null,
   "metadata": {},
   "outputs": [],
   "source": []
  }
 ],
 "metadata": {
  "kernelspec": {
   "display_name": "base",
   "language": "python",
   "name": "python3"
  },
  "language_info": {
   "codemirror_mode": {
    "name": "ipython",
    "version": 3
   },
   "file_extension": ".py",
   "mimetype": "text/x-python",
   "name": "python",
   "nbconvert_exporter": "python",
   "pygments_lexer": "ipython3",
   "version": "3.9.13"
  },
  "orig_nbformat": 4,
  "vscode": {
   "interpreter": {
    "hash": "6ffa1b5e46dc11ea08963e1cd366633ff2f920f8ee7669d02119012e847c3805"
   }
  }
 },
 "nbformat": 4,
 "nbformat_minor": 2
}
