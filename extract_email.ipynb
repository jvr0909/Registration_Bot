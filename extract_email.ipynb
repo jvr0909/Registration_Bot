{
 "cells": [
  {
   "cell_type": "code",
   "execution_count": 348,
   "metadata": {},
   "outputs": [],
   "source": [
    "import imaplib\n",
    "import email\n",
    "from datetime import datetime, timedelta\n",
    "import pytz\n",
    "import time as t\n",
    "\n",
    "\n",
    "import yaml  #To load saved login credentials from a yaml file"
   ]
  },
  {
   "cell_type": "code",
   "execution_count": 349,
   "metadata": {},
   "outputs": [],
   "source": [
    "with open(\"credentials.yml\") as f:\n",
    "    content = f.read()"
   ]
  },
  {
   "cell_type": "code",
   "execution_count": 350,
   "metadata": {},
   "outputs": [],
   "source": [
    "# from credentials.yml import user name and password\n",
    "my_credentials = yaml.load(content, Loader=yaml.FullLoader)"
   ]
  },
  {
   "cell_type": "code",
   "execution_count": 351,
   "metadata": {},
   "outputs": [],
   "source": [
    "\n",
    "#Load the user name and passwd from yaml file\n",
    "gmail, gmail_password = my_credentials[\"gmail_user\"], my_credentials[\"gmail_password\"]"
   ]
  },
  {
   "cell_type": "code",
   "execution_count": 352,
   "metadata": {},
   "outputs": [],
   "source": [
    "#URL for IMAP connection\n",
    "imap_url = 'imap.gmail.com'\n",
    "# Connection with GMAIL using SSL\n",
    "my_mail = imaplib.IMAP4_SSL(imap_url)\n"
   ]
  },
  {
   "cell_type": "code",
   "execution_count": 353,
   "metadata": {},
   "outputs": [
    {
     "name": "stdout",
     "output_type": "stream",
     "text": [
      "LOGIN SUCCESSFUL!!! \n"
     ]
    }
   ],
   "source": [
    "try:\n",
    "    my_mail.login(gmail, gmail_password)\n",
    "    print (\"LOGIN SUCCESSFUL!!! \")\n",
    "    # Select the Inbox to fetch messages\n",
    "    my_mail.select('Inbox')\n",
    "except imaplib.IMAP4.error:\n",
    "    print (\"LOGIN FAILED!!! \")"
   ]
  },
  {
   "cell_type": "code",
   "execution_count": 354,
   "metadata": {},
   "outputs": [],
   "source": [
    "\n",
    "#Define Key and Value for email search\n",
    "#For other keys (criteria): https://gist.github.com/martinrusev/6121028#file-imap-search\n",
    "key = 'FROM'\n",
    "value = 'jrajpal2@illinois.edu'\n",
    "_, data = my_mail.search(None, key, value)  #Search for emails with specific key and value\n",
    "\n",
    "mail_id_list = data[0].split()  #IDs of all emails that we want to fetch \n",
    "\n",
    "\n",
    "\n"
   ]
  },
  {
   "cell_type": "code",
   "execution_count": 355,
   "metadata": {},
   "outputs": [],
   "source": [
    "msgs = [] # empty list to capture all messages\n",
    "#Iterate through messages and extract data into the msgs list\n",
    "for num in mail_id_list:\n",
    "    typ, data = my_mail.fetch(num, '(RFC822)') #RFC822 returns whole message (BODY fetches just body)\n",
    "    msgs.append(data)"
   ]
  },
  {
   "cell_type": "code",
   "execution_count": 356,
   "metadata": {},
   "outputs": [
    {
     "name": "stdout",
     "output_type": "stream",
     "text": [
      "('KIN', '104', '35023', datetime.datetime(2022, 12, 30, 3, 5, 8, tzinfo=datetime.timezone.utc))\n"
     ]
    }
   ],
   "source": [
    "#Now we have all messages, but with a lot of details\n",
    "#Let us extract the right text and print on the screen\n",
    "\n",
    "#In a multipart e-mail, email.message.Message.get_payload() returns a \n",
    "# list with one item for each part. The easiest way is to walk the message \n",
    "# and get the payload on each part:\n",
    "# https://stackoverflow.com/questions/1463074/how-can-i-get-an-email-messages-text-content-using-python\n",
    "\n",
    "# NOTE that a Message object consists of headers and payloads.\n",
    "\n",
    "#create empty list storing course subject, number, and time of most recent notification\n",
    "most_recent_notification = []\n",
    "for response_part in msgs[-1]:\n",
    "    if type(response_part) is tuple:\n",
    "        my_msg=email.message_from_bytes((response_part[1]))\n",
    "        for part in my_msg.walk():\n",
    "            if part.get_content_type() == 'text/plain':\n",
    "                body = part.get_payload(decode=False)\n",
    "                #get day and time of email\n",
    "                time = my_msg['Date']\n",
    "                #find the word \"Course\" in the body\n",
    "                course_index = body.find(\"Course:\") + 8\n",
    "                #get the course subject from course index to space\n",
    "                course_subject = body[course_index:].split()[0]\n",
    "                #get the course number from course index to space\n",
    "                course_number = body[course_index:].split()[1]\n",
    "                crn = body[course_index:].split()[3]\n",
    "                #convert time to datetime object\n",
    "                time = datetime.strptime(time, '%a, %d %b %Y %H:%M:%S %z')\n",
    "                most_recent_notification = (course_subject, course_number, crn, time)\n",
    "print(most_recent_notification)\n"
   ]
  },
  {
   "cell_type": "code",
   "execution_count": 357,
   "metadata": {},
   "outputs": [],
   "source": [
    "#check if the most recent notification is within the last 10 minutes\n",
    "def check_event(most_recent_notification):\n",
    "    utc=pytz.UTC\n",
    "    most_recent_time = most_recent_notification[3]\n",
    "    time_now = utc.localize(datetime.utcnow())\n",
    "    return most_recent_time > time_now - timedelta(minutes=10)\n"
   ]
  },
  {
   "cell_type": "code",
   "execution_count": 358,
   "metadata": {},
   "outputs": [
    {
     "data": {
      "text/plain": [
       "False"
      ]
     },
     "execution_count": 358,
     "metadata": {},
     "output_type": "execute_result"
    }
   ],
   "source": [
    "check_event(most_recent_notification)"
   ]
  },
  {
   "cell_type": "code",
   "execution_count": 359,
   "metadata": {},
   "outputs": [],
   "source": [
    "# create selenium driver\n",
    "# https://banner.apps.uillinois.edu/StudentRegistrationSSB/ssb/registration?mepCode=1UIUC\n",
    "from selenium import webdriver\n",
    "from selenium.webdriver.chrome.options import Options\n",
    "from selenium.webdriver.chrome.service import Service\n",
    "from webdriver_manager.chrome import ChromeDriverManager\n",
    "from selenium.webdriver.common.by import By\n",
    "from selenium.webdriver.support.ui import WebDriverWait\n",
    "\n",
    "\n",
    "\n"
   ]
  },
  {
   "cell_type": "code",
   "execution_count": 360,
   "metadata": {},
   "outputs": [
    {
     "name": "stderr",
     "output_type": "stream",
     "text": [
      "Exception ignored in: <function Service.__del__ at 0x7f7fc89f0700>\n",
      "Traceback (most recent call last):\n",
      "  File \"/Users/vishalrajpal/opt/anaconda3/lib/python3.9/site-packages/selenium/webdriver/common/service.py\", line 182, in __del__\n",
      "    try:\n",
      "KeyboardInterrupt: \n",
      "[WDM] - Downloading: 100%|██████████| 8.61M/8.61M [00:01<00:00, 8.67MB/s]\n"
     ]
    }
   ],
   "source": [
    "# create driver\n",
    "options = Options()\n",
    "options.add_argument(\"start-maximized\")\n",
    "driver = webdriver.Chrome(service=Service(ChromeDriverManager().install()), options=options)\n",
    "driver.get(\"https://banner.apps.uillinois.edu/StudentRegistrationSSB/ssb/registration?mepCode=1UIUC\")\n"
   ]
  },
  {
   "cell_type": "markdown",
   "metadata": {},
   "source": []
  },
  {
   "cell_type": "code",
   "execution_count": null,
   "metadata": {},
   "outputs": [],
   "source": [
    "\n",
    "#click on the \"Register\" button\n"
   ]
  },
  {
   "cell_type": "code",
   "execution_count": null,
   "metadata": {},
   "outputs": [],
   "source": [
    "#click on the \"Register\" button\n",
    "button = driver.find_element(By.ID, \"registerLink\")\n",
    "button.click()"
   ]
  },
  {
   "cell_type": "code",
   "execution_count": null,
   "metadata": {},
   "outputs": [],
   "source": [
    "# from credentials.yml import user name and password\n",
    "my_credentials = yaml.load(content, Loader=yaml.FullLoader)\n",
    "netID, netIDPassword = my_credentials[\"netID\"], my_credentials[\"illinoisPassword\"]\n",
    "#login with netID and password\n",
    "netID_input = driver.find_element(By.ID, \"netid\")\n",
    "netID_input.send_keys(netID)\n",
    "netIDPassword_input = driver.find_element(By.ID, \"easpass\")\n",
    "netIDPassword_input.send_keys(netIDPassword)\n",
    "netIDPassword_input.send_keys(Keys.RETURN)\n"
   ]
  },
  {
   "cell_type": "code",
   "execution_count": null,
   "metadata": {},
   "outputs": [],
   "source": [
    "#click on select term\n",
    "select_term = driver.find_element(By.ID, \"select2-chosen-1\")\n",
    "select_term.click()\n",
    "t.sleep(1)\n",
    "#select term\n",
    "term = driver.find_element(By.ID, \"120231\")\n",
    "term.click()\n",
    "#click on submit\n",
    "submit = driver.find_element(By.ID, \"term-go\")\n",
    "submit.click()"
   ]
  },
  {
   "cell_type": "code",
   "execution_count": null,
   "metadata": {},
   "outputs": [],
   "source": [
    "#click on enter CRN\n",
    "t.sleep(1)\n",
    "enter_CRN = driver.find_element(By.ID, \"enterCRNs-tab\")\n",
    "enter_CRN.click()\n"
   ]
  },
  {
   "cell_type": "code",
   "execution_count": null,
   "metadata": {},
   "outputs": [],
   "source": [
    "course_crn = most_recent_notification[2]\n",
    "#enter CRN\n",
    "crn_input = driver.find_element(By.ID, \"txt_crn1\")\n",
    "crn_input.send_keys(course_crn)\n",
    "#click add to summary\n",
    "add_to_summary = driver.find_element(By.ID, \"addCRNbutton\")\n",
    "add_to_summary.click()\n",
    "#wait 1 second for page to load\n",
    "t.sleep(1)\n",
    "submit = driver.find_element(By.ID, \"saveButton\")\n",
    "submit.click()\n"
   ]
  },
  {
   "cell_type": "code",
   "execution_count": null,
   "metadata": {},
   "outputs": [],
   "source": [
    "driver.close()\n",
    "driver.quit()"
   ]
  },
  {
   "cell_type": "code",
   "execution_count": null,
   "metadata": {},
   "outputs": [],
   "source": []
  }
 ],
 "metadata": {
  "kernelspec": {
   "display_name": "base",
   "language": "python",
   "name": "python3"
  },
  "language_info": {
   "codemirror_mode": {
    "name": "ipython",
    "version": 3
   },
   "file_extension": ".py",
   "mimetype": "text/x-python",
   "name": "python",
   "nbconvert_exporter": "python",
   "pygments_lexer": "ipython3",
   "version": "3.9.13"
  },
  "orig_nbformat": 4,
  "vscode": {
   "interpreter": {
    "hash": "6ffa1b5e46dc11ea08963e1cd366633ff2f920f8ee7669d02119012e847c3805"
   }
  }
 },
 "nbformat": 4,
 "nbformat_minor": 2
}
